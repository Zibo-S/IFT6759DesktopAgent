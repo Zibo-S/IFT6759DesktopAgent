{
 "cells": [
  {
   "cell_type": "code",
   "execution_count": 1,
   "metadata": {},
   "outputs": [],
   "source": [
    "from unstructured.partition.pdf import partition_pdf\n",
    "from pathlib import Path\n",
    "\n",
    "import weaviate\n",
    "from weaviate.embedded import EmbeddedOptions\n",
    "import os\n",
    "import json\n",
    "from weaviate.util import generate_uuid5\n",
    "import re"
   ]
  },
  {
   "cell_type": "code",
   "execution_count": 2,
   "metadata": {},
   "outputs": [],
   "source": [
    "# Specify the path to your PDF file\n",
    "pdf_path = '../data/test/CSC311f19_final.pdf'\n",
    "\n",
    "elements = partition_pdf(pdf_path)"
   ]
  },
  {
   "cell_type": "code",
   "execution_count": 14,
   "metadata": {},
   "outputs": [
    {
     "name": "stdout",
     "output_type": "stream",
     "text": [
      "ˆQ(s, a) = r(s(cid:48)) + γ max\n",
      "a(cid:48)\n",
      "ˆQ(s(cid:48), a(cid:48))\n",
      "Consider applying this algorithm when all the ˆQ values are initialized to zero and γ = 0.8. Write the Q estimates on the ﬁgure as labeled arrows after the robot has executed the following state sequences:\n",
      "B1 → A2 → A2 → A3 → B3 → B4 • A2 → A3 → A4 • C1 → C2 → C3 → B3 → A3 → A4\n",
      "3\n",
      ".\n",
      "b) Assume the robot will now use the policy of always performing the action having the greatest Q value. Is this the optimal policy? Why or why not?\n",
      "c) Suppose state A3 also has a reward of -10. How can we ensure that our agent is still able to ﬁnd the optimal policy in this new environment?\n",
      "4\n",
      "3. Backpropagation. Consider a L2 regularized single layer neural network model that pre- dicts continuous 1d targets y = σ(z) ∈ R where z = wh + b and h = σ(w(cid:48)x + b(cid:48)), and σ is an activation function. To train, we use mean squared error from the targets with L2 penalty on t ∈ R : L = (y − t)2/2 + w2 + b(cid:48)2 ∂w , ∂L ∂b(cid:48) .\n",
      "b) Now compute ∂L\n",
      "∂w , ∂L\n",
      "∂b(cid:48) using the backprogation algorithm.\n",
      "c) What are the disadvantages of doing a) versus backpropagation? Why do we use backpropa- gation in machine learning as opposed to direct diﬀerentiation?\n",
      "5\n",
      "4. Principal Component Analysis. Recall that the optimal PCA subspace can be deter- mined from the eigendecomposition of the empirical covariance matrix ˆΣ. Also recall that the eigendecomposition can be expressed in terms of the following spectral decomposition of ˆΣ: ˆΣ = QΛQ(cid:62),\n",
      "where Q is an orthogonal matrix and Λ is a diagonal matrix. Assume the eigenvalues are sorted from largest to smallest. You may assume all of the eigenvalues are distinct.\n",
      "1. If you’ve already computed the eigendecomposition (i.e. Q and Λ), how do you obtain the orthogonal basis U for the optimal PCA subspace? (You do not need to justify your answer.)\n",
      "2. The PCA code vector for a data point x is given by z = U(cid:62)(x − ˆµ) where ˆµ is the data mean. Show that the entries of z are uncorrelated.\n"
     ]
    }
   ],
   "source": [
    "for elem in elements[40:60]:    # print the first 10 lines in the paper\n",
    "    print(elem)\n",
    "    "
   ]
  },
  {
   "cell_type": "code",
   "execution_count": 15,
   "metadata": {},
   "outputs": [],
   "source": [
    "import re\n",
    "\n",
    "def parse_questions(elements):\n",
    "    text = \"\\n\".join(str(elem) for elem in elements)\n",
    "    \n",
    "    # Adjusted regex patterns to capture both main questions and their subquestions\n",
    "    main_question_pattern = re.compile(r'\\n(\\d+)\\n(\\d+\\..*?)(?=\\n\\d+\\n|\\Z)', re.DOTALL)\n",
    "    subquestion_pattern = re.compile(r'\\n([a-z]\\)|\\d+\\.)\\s(.*?)(?=\\n[a-z]\\)|\\n\\d+\\.|\\Z)', re.DOTALL)\n",
    "    \n",
    "    questions = {}\n",
    "    \n",
    "    for main_match in main_question_pattern.finditer(text):\n",
    "        main_question_number = main_match.group(1)\n",
    "        main_question_text = main_match.group(2).strip()\n",
    "        \n",
    "        subquestions = subquestion_pattern.findall(main_question_text)\n",
    "        \n",
    "        structured_subquestions = [(subq[0].strip(), subq[1].strip()) for subq in subquestions]\n",
    "        \n",
    "        questions[main_question_number] = {\n",
    "            \"text\": main_question_text.split(\"\\n\", 1)[0],\n",
    "            \"subquestions\": structured_subquestions\n",
    "        }\n",
    "\n",
    "    return questions\n",
    "\n",
    "\n"
   ]
  },
  {
   "cell_type": "code",
   "execution_count": 16,
   "metadata": {},
   "outputs": [
    {
     "name": "stdout",
     "output_type": "stream",
     "text": [
      "Main Question 4: 3. Backpropagation. Consider a L2 regularized single layer neural network model that pre- dicts continuous 1d targets y = σ(z) ∈ R where z = wh + b and h = σ(w(cid:48)x + b(cid:48)), and σ is an activation function. To train, we use mean squared error from the targets with L2 penalty on t ∈ R : L = (y − t)2/2 + w2 + b(cid:48)2 ∂w , ∂L ∂b(cid:48) .\n",
      "  Subquestion b): Now compute ∂L\n",
      "∂w , ∂L\n",
      "∂b(cid:48) using the backprogation algorithm.\n",
      "  Subquestion c): What are the disadvantages of doing a) versus backpropagation? Why do we use backpropa- gation in machine learning as opposed to direct diﬀerentiation?\n",
      "\n",
      "\n",
      "Main Question 5: 4. Principal Component Analysis. Recall that the optimal PCA subspace can be deter- mined from the eigendecomposition of the empirical covariance matrix ˆΣ. Also recall that the eigendecomposition can be expressed in terms of the following spectral decomposition of ˆΣ: ˆΣ = QΛQ(cid:62),\n",
      "  Subquestion 1.: If you’ve already computed the eigendecomposition (i.e. Q and Λ), how do you obtain the orthogonal basis U for the optimal PCA subspace? (You do not need to justify your answer.)\n",
      "  Subquestion 2.: The PCA code vector for a data point x is given by z = U(cid:62)(x − ˆµ) where ˆµ is the data mean. Show that the entries of z are uncorrelated.\n",
      "\n",
      "\n"
     ]
    }
   ],
   "source": [
    "parsed_questions = parse_questions(elements[40:60])\n",
    "\n",
    "for question, details in parsed_questions.items():\n",
    "    print(f\"Main Question {question}: {details['text']}\")\n",
    "    for subq in details[\"subquestions\"]:\n",
    "        print(f\"  Subquestion {subq[0]}: {subq[1]}\")\n",
    "    print(\"\\n\")"
   ]
  }
 ],
 "metadata": {
  "kernelspec": {
   "display_name": "ift6758-conda-env",
   "language": "python",
   "name": "ift6758-conda-env"
  },
  "language_info": {
   "codemirror_mode": {
    "name": "ipython",
    "version": 3
   },
   "file_extension": ".py",
   "mimetype": "text/x-python",
   "name": "python",
   "nbconvert_exporter": "python",
   "pygments_lexer": "ipython3",
   "version": "3.11.5"
  },
  "orig_nbformat": 4
 },
 "nbformat": 4,
 "nbformat_minor": 2
}
